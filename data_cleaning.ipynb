{
 "cells": [
  {
   "cell_type": "code",
   "execution_count": 27,
   "id": "deccf637",
   "metadata": {},
   "outputs": [],
   "source": [
    "import pandas as pd"
   ]
  },
  {
   "cell_type": "code",
   "execution_count": 28,
   "id": "1423cf4a",
   "metadata": {},
   "outputs": [],
   "source": [
    "pd.set_option('display.max_colwidth', 500)"
   ]
  },
  {
   "cell_type": "code",
   "execution_count": 29,
   "id": "c9560dab",
   "metadata": {},
   "outputs": [
    {
     "data": {
      "text/html": [
       "<div>\n",
       "<style scoped>\n",
       "    .dataframe tbody tr th:only-of-type {\n",
       "        vertical-align: middle;\n",
       "    }\n",
       "\n",
       "    .dataframe tbody tr th {\n",
       "        vertical-align: top;\n",
       "    }\n",
       "\n",
       "    .dataframe thead th {\n",
       "        text-align: right;\n",
       "    }\n",
       "</style>\n",
       "<table border=\"1\" class=\"dataframe\">\n",
       "  <thead>\n",
       "    <tr style=\"text-align: right;\">\n",
       "      <th></th>\n",
       "      <th>question</th>\n",
       "      <th>answer</th>\n",
       "      <th>source</th>\n",
       "      <th>filename</th>\n",
       "    </tr>\n",
       "  </thead>\n",
       "  <tbody>\n",
       "    <tr>\n",
       "      <th>0</th>\n",
       "      <td>Q. What is AWS AppSync?</td>\n",
       "      <td>AWS AppSync is a new service that enables developers to manage and synchronize mobile app data in real time across devices and users, but still allows the data to be accessed and altered when the mobile device is in an offline state.</td>\n",
       "      <td>aws</td>\n",
       "      <td>appsync_faqs</td>\n",
       "    </tr>\n",
       "    <tr>\n",
       "      <th>1</th>\n",
       "      <td>Q. What application developer languages are supported in AWS AppSync?</td>\n",
       "      <td>AWS AppSync SDKs support iOS, Android, and JavaScript. The JavaScript support spans web frameworks such as React and Angular as well as technologies such as React Native and Ionic. You can also use open source clients to connect to the AppSync GraphQL endpoint for using other platform such as generic HTTP libraries or even a simple CURL commands.</td>\n",
       "      <td>aws</td>\n",
       "      <td>appsync_faqs</td>\n",
       "    </tr>\n",
       "    <tr>\n",
       "      <th>2</th>\n",
       "      <td>Q. Can I make my data real-time with AWS AppSync?</td>\n",
       "      <td>Yes. Subscriptions are supported with AWS AppSync against any of the data sources, so that when a mutation occurs, the results can be passed down to clients subscribing to the event stream immediately using either MQTT over WebSockets or pure WebSockets.</td>\n",
       "      <td>aws</td>\n",
       "      <td>appsync_faqs</td>\n",
       "    </tr>\n",
       "    <tr>\n",
       "      <th>3</th>\n",
       "      <td>Q. What AWS Regions are available for AWS AppSync?</td>\n",
       "      <td>AWS AppSync is available in different regions around the globe, please refer to the AWS Regions table for more details.</td>\n",
       "      <td>aws</td>\n",
       "      <td>appsync_faqs</td>\n",
       "    </tr>\n",
       "    <tr>\n",
       "      <th>4</th>\n",
       "      <td>Q: What is AWS Cloud9?</td>\n",
       "      <td>AWS Cloud9 is a cloud-based integrated development environment (IDE) that lets you write, run, and debug your code with just a browser. It combines the rich code editing features of an IDE such as code completion, hinting, and step-through debugging, with access to a full Linux server for running and storing code. For more information see our AWS Cloud9 User Guide.</td>\n",
       "      <td>aws</td>\n",
       "      <td>cloud9_faqs</td>\n",
       "    </tr>\n",
       "  </tbody>\n",
       "</table>\n",
       "</div>"
      ],
      "text/plain": [
       "                                                                question  \\\n",
       "0                                                Q. What is AWS AppSync?   \n",
       "1  Q. What application developer languages are supported in AWS AppSync?   \n",
       "2                      Q. Can I make my data real-time with AWS AppSync?   \n",
       "3                     Q. What AWS Regions are available for AWS AppSync?   \n",
       "4                                                 Q: What is AWS Cloud9?   \n",
       "\n",
       "                                                                                                                                                                                                                                                                                                                                                                            answer  \\\n",
       "0                                                                                                                                        AWS AppSync is a new service that enables developers to manage and synchronize mobile app data in real time across devices and users, but still allows the data to be accessed and altered when the mobile device is in an offline state.   \n",
       "1                     AWS AppSync SDKs support iOS, Android, and JavaScript. The JavaScript support spans web frameworks such as React and Angular as well as technologies such as React Native and Ionic. You can also use open source clients to connect to the AppSync GraphQL endpoint for using other platform such as generic HTTP libraries or even a simple CURL commands.   \n",
       "2                                                                                                                   Yes. Subscriptions are supported with AWS AppSync against any of the data sources, so that when a mutation occurs, the results can be passed down to clients subscribing to the event stream immediately using either MQTT over WebSockets or pure WebSockets.   \n",
       "3                                                                                                                                                                                                                                                          AWS AppSync is available in different regions around the globe, please refer to the AWS Regions table for more details.   \n",
       "4  AWS Cloud9 is a cloud-based integrated development environment (IDE) that lets you write, run, and debug your code with just a browser. It combines the rich code editing features of an IDE such as code completion, hinting, and step-through debugging, with access to a full Linux server for running and storing code. For more information see our AWS Cloud9 User Guide.   \n",
       "\n",
       "  source      filename  \n",
       "0    aws  appsync_faqs  \n",
       "1    aws  appsync_faqs  \n",
       "2    aws  appsync_faqs  \n",
       "3    aws  appsync_faqs  \n",
       "4    aws   cloud9_faqs  "
      ]
     },
     "execution_count": 29,
     "metadata": {},
     "output_type": "execute_result"
    }
   ],
   "source": [
    "df = pd.read_csv('data/faq.csv', index_col=0)\n",
    "df.head()"
   ]
  },
  {
   "cell_type": "code",
   "execution_count": 30,
   "id": "f9c3a85b",
   "metadata": {},
   "outputs": [
    {
     "data": {
      "text/plain": [
       "aws             6793\n",
       "ibm             1975\n",
       "gcp              739\n",
       "hetzner          271\n",
       "azure            218\n",
       "yandex_cloud     211\n",
       "Name: source, dtype: int64"
      ]
     },
     "execution_count": 30,
     "metadata": {},
     "output_type": "execute_result"
    }
   ],
   "source": [
    "df.source.value_counts()"
   ]
  },
  {
   "cell_type": "code",
   "execution_count": 31,
   "id": "24ead5c7",
   "metadata": {},
   "outputs": [],
   "source": [
    "df['clean_question'] = (\n",
    "    df.question\n",
    "    .str.replace('Q.', '', regex=False)\n",
    "    .str.replace('Q:', '', regex=False)\n",
    "    .str.strip()\n",
    "    .str.lower()\n",
    ")"
   ]
  },
  {
   "cell_type": "code",
   "execution_count": 32,
   "id": "6a6617d7",
   "metadata": {},
   "outputs": [
    {
     "data": {
      "text/plain": [
       "(10207, 5)"
      ]
     },
     "execution_count": 32,
     "metadata": {},
     "output_type": "execute_result"
    }
   ],
   "source": [
    "df.shape"
   ]
  },
  {
   "cell_type": "code",
   "execution_count": 33,
   "id": "c3044f5f",
   "metadata": {},
   "outputs": [
    {
     "data": {
      "text/plain": [
       "(9106, 5)"
      ]
     },
     "execution_count": 33,
     "metadata": {},
     "output_type": "execute_result"
    }
   ],
   "source": [
    "df = df.drop_duplicates(subset=['clean_question'])\n",
    "df.shape"
   ]
  },
  {
   "cell_type": "code",
   "execution_count": 34,
   "id": "683cd4c4",
   "metadata": {},
   "outputs": [
    {
     "data": {
      "text/plain": [
       "aws             6167\n",
       "ibm             1734\n",
       "gcp              614\n",
       "hetzner          270\n",
       "azure            204\n",
       "yandex_cloud     117\n",
       "Name: source, dtype: int64"
      ]
     },
     "execution_count": 34,
     "metadata": {},
     "output_type": "execute_result"
    }
   ],
   "source": [
    "df.source.value_counts()"
   ]
  },
  {
   "cell_type": "code",
   "execution_count": 35,
   "id": "0b7f9ff0",
   "metadata": {},
   "outputs": [
    {
     "data": {
      "text/plain": [
       "(9017, 6)"
      ]
     },
     "execution_count": 35,
     "metadata": {},
     "output_type": "execute_result"
    }
   ],
   "source": [
    "df['answer_lower'] = df.answer.str.lower().str.replace('a:', '').str.strip()\n",
    "df = df.drop_duplicates(subset=['answer_lower'])\n",
    "df.shape"
   ]
  },
  {
   "cell_type": "code",
   "execution_count": 36,
   "id": "ff4e203c",
   "metadata": {},
   "outputs": [
    {
     "data": {
      "text/plain": [
       "aws             6116\n",
       "ibm             1723\n",
       "gcp              604\n",
       "hetzner          262\n",
       "azure            200\n",
       "yandex_cloud     112\n",
       "Name: source, dtype: int64"
      ]
     },
     "execution_count": 36,
     "metadata": {},
     "output_type": "execute_result"
    }
   ],
   "source": [
    "df.source.value_counts()"
   ]
  },
  {
   "cell_type": "code",
   "execution_count": 37,
   "id": "67a3fe37",
   "metadata": {},
   "outputs": [
    {
     "data": {
      "text/plain": [
       "count    9017.000000\n",
       "mean       60.910835\n",
       "std        27.778333\n",
       "min        11.000000\n",
       "25%        42.000000\n",
       "50%        56.000000\n",
       "75%        74.000000\n",
       "max       359.000000\n",
       "Name: clean_question, dtype: float64"
      ]
     },
     "execution_count": 37,
     "metadata": {},
     "output_type": "execute_result"
    }
   ],
   "source": [
    "df.clean_question.apply(lambda x: len(x)).describe()"
   ]
  },
  {
   "cell_type": "code",
   "execution_count": 38,
   "id": "e8dd61bd",
   "metadata": {},
   "outputs": [],
   "source": [
    "def splitter(x):\n",
    "    split_str = x.split('.')\n",
    "    split_str = [part for part in split_str if part]\n",
    "    if not split_str:\n",
    "        return ''\n",
    "    \n",
    "    if len(split_str) > 1:\n",
    "        if (\n",
    "            split_str[0].endswith('yandex') \n",
    "            or \n",
    "            split_str[0].endswith('aws')\n",
    "            or\n",
    "            split_str[0].endswith('azure')\n",
    "            or\n",
    "            split_str[0].endswith('hetzner')\n",
    "            or\n",
    "            split_str[0].endswith('gcp')\n",
    "        ):\n",
    "            return split_str[0] + split_str[1] \n",
    "        elif len(split_str[0]) < 20:\n",
    "            return split_str[0] + ',' + split_str[1]\n",
    "    \n",
    "    return split_str[0]\n",
    "    \n",
    "    "
   ]
  },
  {
   "cell_type": "code",
   "execution_count": 39,
   "id": "ec05ef9a",
   "metadata": {},
   "outputs": [],
   "source": [
    "df['answer_processed'] = df.answer_lower.apply(splitter)"
   ]
  },
  {
   "cell_type": "code",
   "execution_count": 40,
   "id": "b9ebb3c1",
   "metadata": {},
   "outputs": [],
   "source": [
    "# -> probably won't be understood by bert, as well as russian letters"
   ]
  },
  {
   "cell_type": "code",
   "execution_count": 41,
   "id": "1f80453d",
   "metadata": {},
   "outputs": [
    {
     "data": {
      "text/plain": [
       "(8942, 7)"
      ]
     },
     "execution_count": 41,
     "metadata": {},
     "output_type": "execute_result"
    }
   ],
   "source": [
    "df = df.drop_duplicates(subset=['answer_processed'])\n",
    "df.shape"
   ]
  },
  {
   "cell_type": "code",
   "execution_count": 42,
   "id": "4fafd04e",
   "metadata": {},
   "outputs": [
    {
     "data": {
      "text/plain": [
       "aws             6059\n",
       "ibm             1706\n",
       "gcp              604\n",
       "hetzner          262\n",
       "azure            200\n",
       "yandex_cloud     111\n",
       "Name: source, dtype: int64"
      ]
     },
     "execution_count": 42,
     "metadata": {},
     "output_type": "execute_result"
    }
   ],
   "source": [
    "df.source.value_counts()"
   ]
  },
  {
   "cell_type": "code",
   "execution_count": 43,
   "id": "b88636d3",
   "metadata": {},
   "outputs": [],
   "source": [
    "df = df[df.answer_processed.apply(lambda x: ':' not in x)]"
   ]
  },
  {
   "cell_type": "code",
   "execution_count": 44,
   "id": "2cf2a7d3",
   "metadata": {},
   "outputs": [
    {
     "data": {
      "text/plain": [
       "aws             5933\n",
       "ibm             1565\n",
       "gcp              589\n",
       "hetzner          259\n",
       "azure            192\n",
       "yandex_cloud     109\n",
       "Name: source, dtype: int64"
      ]
     },
     "execution_count": 44,
     "metadata": {},
     "output_type": "execute_result"
    }
   ],
   "source": [
    "df.source.value_counts()"
   ]
  },
  {
   "cell_type": "code",
   "execution_count": 45,
   "id": "e95c4f50",
   "metadata": {},
   "outputs": [],
   "source": [
    "df = df[(df.clean_question.str.len() + df.answer_processed.str.len()) <= 512]"
   ]
  },
  {
   "cell_type": "code",
   "execution_count": 46,
   "id": "f159b04c",
   "metadata": {},
   "outputs": [
    {
     "data": {
      "text/plain": [
       "aws             5923\n",
       "ibm             1564\n",
       "gcp              588\n",
       "hetzner          259\n",
       "azure            192\n",
       "yandex_cloud     109\n",
       "Name: source, dtype: int64"
      ]
     },
     "execution_count": 46,
     "metadata": {},
     "output_type": "execute_result"
    }
   ],
   "source": [
    "df.source.value_counts()"
   ]
  },
  {
   "cell_type": "code",
   "execution_count": 47,
   "id": "6d278337",
   "metadata": {},
   "outputs": [
    {
     "data": {
      "text/plain": [
       "(8635, 7)"
      ]
     },
     "execution_count": 47,
     "metadata": {},
     "output_type": "execute_result"
    }
   ],
   "source": [
    "df.shape"
   ]
  },
  {
   "cell_type": "code",
   "execution_count": 48,
   "id": "e8f24bc3",
   "metadata": {},
   "outputs": [
    {
     "data": {
      "text/plain": [
       "aws             5923\n",
       "ibm             1564\n",
       "gcp              588\n",
       "hetzner          259\n",
       "azure            192\n",
       "yandex_cloud     109\n",
       "Name: source, dtype: int64"
      ]
     },
     "execution_count": 48,
     "metadata": {},
     "output_type": "execute_result"
    }
   ],
   "source": [
    "df.source.value_counts()"
   ]
  },
  {
   "cell_type": "code",
   "execution_count": 49,
   "id": "4debea9d",
   "metadata": {},
   "outputs": [
    {
     "data": {
      "text/html": [
       "<div>\n",
       "<style scoped>\n",
       "    .dataframe tbody tr th:only-of-type {\n",
       "        vertical-align: middle;\n",
       "    }\n",
       "\n",
       "    .dataframe tbody tr th {\n",
       "        vertical-align: top;\n",
       "    }\n",
       "\n",
       "    .dataframe thead th {\n",
       "        text-align: right;\n",
       "    }\n",
       "</style>\n",
       "<table border=\"1\" class=\"dataframe\">\n",
       "  <thead>\n",
       "    <tr style=\"text-align: right;\">\n",
       "      <th></th>\n",
       "      <th>source</th>\n",
       "      <th>filename</th>\n",
       "      <th>question</th>\n",
       "      <th>answer</th>\n",
       "    </tr>\n",
       "  </thead>\n",
       "  <tbody>\n",
       "    <tr>\n",
       "      <th>0</th>\n",
       "      <td>aws</td>\n",
       "      <td>appsync_faqs</td>\n",
       "      <td>what is aws appsync?</td>\n",
       "      <td>aws appsync is a new service that enables developers to manage and synchronize mobile app data in real time across devices and users, but still allows the data to be accessed and altered when the mobile device is in an offline state</td>\n",
       "    </tr>\n",
       "    <tr>\n",
       "      <th>1</th>\n",
       "      <td>aws</td>\n",
       "      <td>appsync_faqs</td>\n",
       "      <td>what application developer languages are supported in aws appsync?</td>\n",
       "      <td>aws appsync sdks support ios, android, and javascript</td>\n",
       "    </tr>\n",
       "    <tr>\n",
       "      <th>2</th>\n",
       "      <td>aws</td>\n",
       "      <td>appsync_faqs</td>\n",
       "      <td>can i make my data real-time with aws appsync?</td>\n",
       "      <td>yes, subscriptions are supported with aws appsync against any of the data sources, so that when a mutation occurs, the results can be passed down to clients subscribing to the event stream immediately using either mqtt over websockets or pure websockets</td>\n",
       "    </tr>\n",
       "    <tr>\n",
       "      <th>3</th>\n",
       "      <td>aws</td>\n",
       "      <td>appsync_faqs</td>\n",
       "      <td>what aws regions are available for aws appsync?</td>\n",
       "      <td>aws appsync is available in different regions around the globe, please refer to the aws regions table for more details</td>\n",
       "    </tr>\n",
       "    <tr>\n",
       "      <th>4</th>\n",
       "      <td>aws</td>\n",
       "      <td>cloud9_faqs</td>\n",
       "      <td>what is aws cloud9?</td>\n",
       "      <td>aws cloud9 is a cloud-based integrated development environment (ide) that lets you write, run, and debug your code with just a browser</td>\n",
       "    </tr>\n",
       "  </tbody>\n",
       "</table>\n",
       "</div>"
      ],
      "text/plain": [
       "  source      filename  \\\n",
       "0    aws  appsync_faqs   \n",
       "1    aws  appsync_faqs   \n",
       "2    aws  appsync_faqs   \n",
       "3    aws  appsync_faqs   \n",
       "4    aws   cloud9_faqs   \n",
       "\n",
       "                                                             question  \\\n",
       "0                                                what is aws appsync?   \n",
       "1  what application developer languages are supported in aws appsync?   \n",
       "2                      can i make my data real-time with aws appsync?   \n",
       "3                     what aws regions are available for aws appsync?   \n",
       "4                                                 what is aws cloud9?   \n",
       "\n",
       "                                                                                                                                                                                                                                                          answer  \n",
       "0                       aws appsync is a new service that enables developers to manage and synchronize mobile app data in real time across devices and users, but still allows the data to be accessed and altered when the mobile device is in an offline state  \n",
       "1                                                                                                                                                                                                          aws appsync sdks support ios, android, and javascript  \n",
       "2  yes, subscriptions are supported with aws appsync against any of the data sources, so that when a mutation occurs, the results can be passed down to clients subscribing to the event stream immediately using either mqtt over websockets or pure websockets  \n",
       "3                                                                                                                                         aws appsync is available in different regions around the globe, please refer to the aws regions table for more details  \n",
       "4                                                                                                                         aws cloud9 is a cloud-based integrated development environment (ide) that lets you write, run, and debug your code with just a browser  "
      ]
     },
     "execution_count": 49,
     "metadata": {},
     "output_type": "execute_result"
    }
   ],
   "source": [
    "final_df = df[['source', 'filename', 'clean_question', 'answer_processed']].rename(columns={\"clean_question\": \"question\", \"answer_processed\": \"answer\"})\n",
    "final_df.head()"
   ]
  },
  {
   "cell_type": "code",
   "execution_count": 50,
   "id": "7a231731",
   "metadata": {},
   "outputs": [],
   "source": [
    "final_df.to_csv('cloud_faq_dataset.csv')"
   ]
  },
  {
   "cell_type": "code",
   "execution_count": 51,
   "id": "c446b05b",
   "metadata": {},
   "outputs": [],
   "source": [
    "final_df.to_json('cloud_faq_dataset.jsonl', index=True, orient=\"records\", lines=True)"
   ]
  },
  {
   "cell_type": "code",
   "execution_count": null,
   "id": "9ca2d674",
   "metadata": {},
   "outputs": [],
   "source": []
  }
 ],
 "metadata": {
  "kernelspec": {
   "display_name": "Python 3 (ipykernel)",
   "language": "python",
   "name": "python3"
  },
  "language_info": {
   "codemirror_mode": {
    "name": "ipython",
    "version": 3
   },
   "file_extension": ".py",
   "mimetype": "text/x-python",
   "name": "python",
   "nbconvert_exporter": "python",
   "pygments_lexer": "ipython3",
   "version": "3.9.6"
  }
 },
 "nbformat": 4,
 "nbformat_minor": 5
}
